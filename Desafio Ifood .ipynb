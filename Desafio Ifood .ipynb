{
 "cells": [
  {
   "cell_type": "markdown",
   "id": "f24c1e34",
   "metadata": {},
   "source": [
    "# Desafio Ifood"
   ]
  },
  {
   "cell_type": "markdown",
   "id": "cf51f895",
   "metadata": {},
   "source": [
    "## Introdução\n",
    "Nesta análise, exploraremos o conjunto de dados do iFood proposto pelo projeto E.B.A, desenvolvido por Renata Biaggi. Nosso objetivo é investigar e responder a várias questões sobre o perfil e o comportamento dos clientes presentes no dataset.\n",
    "\n",
    "### Questões a serem respondidas:\n",
    "1. Exploração Inicial do Dataset:\n",
    "\n",
    "- Quantos dados temos?\n",
    "- Quais são as colunas numéricas?\n",
    "- Existem duplicados na nossa base de dados?\n",
    "- Temos dados nulos nessa base? Será que eles indicam algo? O que fazer com eles? \n",
    "- Quais são as estatísticas descritivas das colunas numéricas (média, mediana, percentis 25 e 75 percentil, mínimo e máximo)?\n",
    "\n",
    "2. Entendendo o Perfil dos Clientes:\n",
    "\n",
    "- Qual é o maior salário encontrado na nossa base?\n",
    "- Como é a distribuição salarial entre os clientes? Existe uma ampla variação entre clientes que ganham muito bem e aqueles que ganham menos?\n",
    "- Qual é o nível de educação dos nossos clientes?\n",
    "- Quantos clientes temos em cada estado civil?\n",
    "\n",
    "3. Análise de Correlações:\n",
    "\n",
    "- Existe uma relação entre o estado civil e o número de filhos? As pessoas casadas tendem a ter mais filhos?\n",
    "- O número de filhos influencia nos gastos na nossa plataforma? As pessoas com filhos gastam mais ou menos?\n",
    "- A renda impacta nos gastos? Pessoas com maiores salários tendem a gastar mais?\n",
    "- Qual a melhor estratégia para aumentar o engajamento de clientes em menor ascensão sobre os gastos na plataforma?\n",
    "- Qual a relação entre a idade e os gastos em nossa plataforma? Pessoas com maior idade tendem a gastar mais ou menos? \n",
    "- A faixa etária que mais gasta é a que tem os maiores salários?\n",
    "\n",
    "4. Objetivos da Análise\n",
    "\n",
    "Ao final desta análise, esperamos obter uma compreensão detalhada sobre o perfil dos clientes do iFood, identificar padrões de comportamento e analisar como diferentes fatores se relacionam entre si. Isso nos permitirá insights valiosos sobre a base de clientes e potencialmente orientar estratégias de marketing e atendimento.\n",
    "\n"
   ]
  },
  {
   "cell_type": "code",
   "execution_count": 217,
   "id": "d5e813a5",
   "metadata": {},
   "outputs": [],
   "source": [
    "#Importando as bibliotecas necessárias.\n",
    "import pandas as pd\n",
    "import numpy as np \n",
    "import matplotlib.pyplot as plt\n",
    "import seaborn as sns\n",
    "import plotly.express as px\n",
    "import warnings"
   ]
  },
  {
   "cell_type": "code",
   "execution_count": 218,
   "id": "70e2f385",
   "metadata": {},
   "outputs": [],
   "source": [
    "# Armazenando o DataFrame em uma variável.\n",
    "df = pd.read_csv(\"C:/Users/lokpe/OneDrive/Documentos/Csv-Eba/mkt_data.csv\")"
   ]
  },
  {
   "cell_type": "code",
   "execution_count": 219,
   "id": "2139c8cf",
   "metadata": {},
   "outputs": [],
   "source": [
    "# Observando o DataFrame e retirando os avisos do seaborn \n",
    "df\n",
    "warnings.simplefilter(action=\"ignore\", category=FutureWarning)"
   ]
  },
  {
   "cell_type": "markdown",
   "id": "f1b40ca6",
   "metadata": {},
   "source": [
    "#### 1. Exploração Inicial do Dataset:\n",
    "\n",
    "- Quantos dados temos?\n",
    "- Quais são as colunas numéricas?\n",
    "- Existem duplicados na nossa base de dados?\n",
    "- Temos dados nulos nessa base? Será que eles indicam algo? O que fazer com eles? \n",
    "- Quais são as estatísticas descritivas das colunas numéricas (média, mediana, percentis 25 e 75 percentil, mínimo e máximo)?"
   ]
  },
  {
   "cell_type": "code",
   "execution_count": 220,
   "id": "d662b34b",
   "metadata": {},
   "outputs": [
    {
     "data": {
      "text/plain": [
       "(2205, 44)"
      ]
     },
     "execution_count": 220,
     "metadata": {},
     "output_type": "execute_result"
    }
   ],
   "source": [
    "df.shape"
   ]
  },
  {
   "cell_type": "markdown",
   "id": "874c9aad",
   "metadata": {},
   "source": [
    "##### Quantos dados temos?\n",
    "\n",
    "Aqui, podemos informar que este DataFrame contém 2.205 linhas e 44 colunas."
   ]
  },
  {
   "cell_type": "markdown",
   "id": "35e210ef",
   "metadata": {},
   "source": [
    "#### Quais são as colunas numéricas?"
   ]
  },
  {
   "cell_type": "code",
   "execution_count": 221,
   "id": "27927abb",
   "metadata": {},
   "outputs": [
    {
     "name": "stdout",
     "output_type": "stream",
     "text": [
      "<class 'pandas.core.frame.DataFrame'>\n",
      "RangeIndex: 2205 entries, 0 to 2204\n",
      "Data columns (total 44 columns):\n",
      " #   Column                Non-Null Count  Dtype  \n",
      "---  ------                --------------  -----  \n",
      " 0   Unnamed: 0            2205 non-null   int64  \n",
      " 1   Income                2205 non-null   float64\n",
      " 2   Kidhome               2205 non-null   int64  \n",
      " 3   Teenhome              2205 non-null   int64  \n",
      " 4   Recency               2205 non-null   int64  \n",
      " 5   MntWines              2205 non-null   int64  \n",
      " 6   MntFruits             2205 non-null   int64  \n",
      " 7   MntMeatProducts       2205 non-null   int64  \n",
      " 8   MntFishProducts       2205 non-null   int64  \n",
      " 9   MntSweetProducts      2205 non-null   int64  \n",
      " 10  MntGoldProds          2205 non-null   int64  \n",
      " 11  NumDealsPurchases     2205 non-null   int64  \n",
      " 12  NumWebPurchases       2205 non-null   int64  \n",
      " 13  NumCatalogPurchases   2205 non-null   int64  \n",
      " 14  NumStorePurchases     2205 non-null   int64  \n",
      " 15  NumWebVisitsMonth     2205 non-null   int64  \n",
      " 16  AcceptedCmp3          2205 non-null   int64  \n",
      " 17  AcceptedCmp4          2205 non-null   int64  \n",
      " 18  AcceptedCmp5          2205 non-null   int64  \n",
      " 19  AcceptedCmp1          2205 non-null   int64  \n",
      " 20  AcceptedCmp2          2205 non-null   int64  \n",
      " 21  Complain              2205 non-null   int64  \n",
      " 22  Z_CostContact         2205 non-null   int64  \n",
      " 23  Z_Revenue             2205 non-null   int64  \n",
      " 24  Response              2205 non-null   int64  \n",
      " 25  Age                   2205 non-null   int64  \n",
      " 26  Customer_Days         2205 non-null   int64  \n",
      " 27  marital_Divorced      230 non-null    float64\n",
      " 28  marital_Married       854 non-null    float64\n",
      " 29  marital_Single        477 non-null    float64\n",
      " 30  marital_Together      568 non-null    float64\n",
      " 31  marital_Widow         76 non-null     float64\n",
      " 32  education_2n Cycle    198 non-null    float64\n",
      " 33  education_Basic       54 non-null     float64\n",
      " 34  education_Graduation  1113 non-null   float64\n",
      " 35  education_Master      364 non-null    float64\n",
      " 36  education_PhD         476 non-null    float64\n",
      " 37  MntTotal              2205 non-null   int64  \n",
      " 38  MntRegularProds       2205 non-null   int64  \n",
      " 39  AcceptedCmpOverall    2205 non-null   int64  \n",
      " 40  marital_status        2205 non-null   object \n",
      " 41  education_level       2205 non-null   object \n",
      " 42  kids                  2205 non-null   int64  \n",
      " 43  expenses              2205 non-null   int64  \n",
      "dtypes: float64(11), int64(31), object(2)\n",
      "memory usage: 758.1+ KB\n"
     ]
    }
   ],
   "source": [
    "df.info()"
   ]
  },
  {
   "cell_type": "markdown",
   "id": "5dd901de",
   "metadata": {},
   "source": [
    "Acima, observamos os dados numéricos adquiridos."
   ]
  },
  {
   "cell_type": "markdown",
   "id": "7b6db14d",
   "metadata": {},
   "source": [
    "#### Existem duplicados na nossa base de dados? Se sim, o que exatamente eles representam?"
   ]
  },
  {
   "cell_type": "code",
   "execution_count": 222,
   "id": "b1a2f753",
   "metadata": {},
   "outputs": [
    {
     "data": {
      "text/plain": [
       "0       False\n",
       "1       False\n",
       "2       False\n",
       "3       False\n",
       "4       False\n",
       "        ...  \n",
       "2200    False\n",
       "2201    False\n",
       "2202    False\n",
       "2203    False\n",
       "2204    False\n",
       "Length: 2205, dtype: bool"
      ]
     },
     "execution_count": 222,
     "metadata": {},
     "output_type": "execute_result"
    }
   ],
   "source": [
    "df.duplicated()"
   ]
  },
  {
   "cell_type": "code",
   "execution_count": 223,
   "id": "18ef1f7d",
   "metadata": {},
   "outputs": [
    {
     "data": {
      "text/plain": [
       "0"
      ]
     },
     "execution_count": 223,
     "metadata": {},
     "output_type": "execute_result"
    }
   ],
   "source": [
    "df.duplicated().sum()"
   ]
  },
  {
   "cell_type": "markdown",
   "id": "fe623921",
   "metadata": {},
   "source": [
    "Como podemos observar nas duas cédulas acima, não temos dados duplicados. "
   ]
  },
  {
   "cell_type": "markdown",
   "id": "0d156979",
   "metadata": {},
   "source": [
    "#### Temos dados nulos nessa base?"
   ]
  },
  {
   "cell_type": "code",
   "execution_count": 224,
   "id": "f02f5e77",
   "metadata": {},
   "outputs": [
    {
     "data": {
      "text/html": [
       "<div>\n",
       "<style scoped>\n",
       "    .dataframe tbody tr th:only-of-type {\n",
       "        vertical-align: middle;\n",
       "    }\n",
       "\n",
       "    .dataframe tbody tr th {\n",
       "        vertical-align: top;\n",
       "    }\n",
       "\n",
       "    .dataframe thead th {\n",
       "        text-align: right;\n",
       "    }\n",
       "</style>\n",
       "<table border=\"1\" class=\"dataframe\">\n",
       "  <thead>\n",
       "    <tr style=\"text-align: right;\">\n",
       "      <th></th>\n",
       "      <th>Unnamed: 0</th>\n",
       "      <th>Income</th>\n",
       "      <th>Kidhome</th>\n",
       "      <th>Teenhome</th>\n",
       "      <th>Recency</th>\n",
       "      <th>MntWines</th>\n",
       "      <th>MntFruits</th>\n",
       "      <th>MntMeatProducts</th>\n",
       "      <th>MntFishProducts</th>\n",
       "      <th>MntSweetProducts</th>\n",
       "      <th>...</th>\n",
       "      <th>education_Graduation</th>\n",
       "      <th>education_Master</th>\n",
       "      <th>education_PhD</th>\n",
       "      <th>MntTotal</th>\n",
       "      <th>MntRegularProds</th>\n",
       "      <th>AcceptedCmpOverall</th>\n",
       "      <th>marital_status</th>\n",
       "      <th>education_level</th>\n",
       "      <th>kids</th>\n",
       "      <th>expenses</th>\n",
       "    </tr>\n",
       "  </thead>\n",
       "  <tbody>\n",
       "    <tr>\n",
       "      <th>0</th>\n",
       "      <td>False</td>\n",
       "      <td>False</td>\n",
       "      <td>False</td>\n",
       "      <td>False</td>\n",
       "      <td>False</td>\n",
       "      <td>False</td>\n",
       "      <td>False</td>\n",
       "      <td>False</td>\n",
       "      <td>False</td>\n",
       "      <td>False</td>\n",
       "      <td>...</td>\n",
       "      <td>False</td>\n",
       "      <td>True</td>\n",
       "      <td>True</td>\n",
       "      <td>False</td>\n",
       "      <td>False</td>\n",
       "      <td>False</td>\n",
       "      <td>False</td>\n",
       "      <td>False</td>\n",
       "      <td>False</td>\n",
       "      <td>False</td>\n",
       "    </tr>\n",
       "    <tr>\n",
       "      <th>1</th>\n",
       "      <td>False</td>\n",
       "      <td>False</td>\n",
       "      <td>False</td>\n",
       "      <td>False</td>\n",
       "      <td>False</td>\n",
       "      <td>False</td>\n",
       "      <td>False</td>\n",
       "      <td>False</td>\n",
       "      <td>False</td>\n",
       "      <td>False</td>\n",
       "      <td>...</td>\n",
       "      <td>False</td>\n",
       "      <td>True</td>\n",
       "      <td>True</td>\n",
       "      <td>False</td>\n",
       "      <td>False</td>\n",
       "      <td>False</td>\n",
       "      <td>False</td>\n",
       "      <td>False</td>\n",
       "      <td>False</td>\n",
       "      <td>False</td>\n",
       "    </tr>\n",
       "    <tr>\n",
       "      <th>2</th>\n",
       "      <td>False</td>\n",
       "      <td>False</td>\n",
       "      <td>False</td>\n",
       "      <td>False</td>\n",
       "      <td>False</td>\n",
       "      <td>False</td>\n",
       "      <td>False</td>\n",
       "      <td>False</td>\n",
       "      <td>False</td>\n",
       "      <td>False</td>\n",
       "      <td>...</td>\n",
       "      <td>False</td>\n",
       "      <td>True</td>\n",
       "      <td>True</td>\n",
       "      <td>False</td>\n",
       "      <td>False</td>\n",
       "      <td>False</td>\n",
       "      <td>False</td>\n",
       "      <td>False</td>\n",
       "      <td>False</td>\n",
       "      <td>False</td>\n",
       "    </tr>\n",
       "    <tr>\n",
       "      <th>3</th>\n",
       "      <td>False</td>\n",
       "      <td>False</td>\n",
       "      <td>False</td>\n",
       "      <td>False</td>\n",
       "      <td>False</td>\n",
       "      <td>False</td>\n",
       "      <td>False</td>\n",
       "      <td>False</td>\n",
       "      <td>False</td>\n",
       "      <td>False</td>\n",
       "      <td>...</td>\n",
       "      <td>False</td>\n",
       "      <td>True</td>\n",
       "      <td>True</td>\n",
       "      <td>False</td>\n",
       "      <td>False</td>\n",
       "      <td>False</td>\n",
       "      <td>False</td>\n",
       "      <td>False</td>\n",
       "      <td>False</td>\n",
       "      <td>False</td>\n",
       "    </tr>\n",
       "    <tr>\n",
       "      <th>4</th>\n",
       "      <td>False</td>\n",
       "      <td>False</td>\n",
       "      <td>False</td>\n",
       "      <td>False</td>\n",
       "      <td>False</td>\n",
       "      <td>False</td>\n",
       "      <td>False</td>\n",
       "      <td>False</td>\n",
       "      <td>False</td>\n",
       "      <td>False</td>\n",
       "      <td>...</td>\n",
       "      <td>True</td>\n",
       "      <td>True</td>\n",
       "      <td>False</td>\n",
       "      <td>False</td>\n",
       "      <td>False</td>\n",
       "      <td>False</td>\n",
       "      <td>False</td>\n",
       "      <td>False</td>\n",
       "      <td>False</td>\n",
       "      <td>False</td>\n",
       "    </tr>\n",
       "    <tr>\n",
       "      <th>...</th>\n",
       "      <td>...</td>\n",
       "      <td>...</td>\n",
       "      <td>...</td>\n",
       "      <td>...</td>\n",
       "      <td>...</td>\n",
       "      <td>...</td>\n",
       "      <td>...</td>\n",
       "      <td>...</td>\n",
       "      <td>...</td>\n",
       "      <td>...</td>\n",
       "      <td>...</td>\n",
       "      <td>...</td>\n",
       "      <td>...</td>\n",
       "      <td>...</td>\n",
       "      <td>...</td>\n",
       "      <td>...</td>\n",
       "      <td>...</td>\n",
       "      <td>...</td>\n",
       "      <td>...</td>\n",
       "      <td>...</td>\n",
       "      <td>...</td>\n",
       "    </tr>\n",
       "    <tr>\n",
       "      <th>2200</th>\n",
       "      <td>False</td>\n",
       "      <td>False</td>\n",
       "      <td>False</td>\n",
       "      <td>False</td>\n",
       "      <td>False</td>\n",
       "      <td>False</td>\n",
       "      <td>False</td>\n",
       "      <td>False</td>\n",
       "      <td>False</td>\n",
       "      <td>False</td>\n",
       "      <td>...</td>\n",
       "      <td>False</td>\n",
       "      <td>True</td>\n",
       "      <td>True</td>\n",
       "      <td>False</td>\n",
       "      <td>False</td>\n",
       "      <td>False</td>\n",
       "      <td>False</td>\n",
       "      <td>False</td>\n",
       "      <td>False</td>\n",
       "      <td>False</td>\n",
       "    </tr>\n",
       "    <tr>\n",
       "      <th>2201</th>\n",
       "      <td>False</td>\n",
       "      <td>False</td>\n",
       "      <td>False</td>\n",
       "      <td>False</td>\n",
       "      <td>False</td>\n",
       "      <td>False</td>\n",
       "      <td>False</td>\n",
       "      <td>False</td>\n",
       "      <td>False</td>\n",
       "      <td>False</td>\n",
       "      <td>...</td>\n",
       "      <td>True</td>\n",
       "      <td>True</td>\n",
       "      <td>False</td>\n",
       "      <td>False</td>\n",
       "      <td>False</td>\n",
       "      <td>False</td>\n",
       "      <td>False</td>\n",
       "      <td>False</td>\n",
       "      <td>False</td>\n",
       "      <td>False</td>\n",
       "    </tr>\n",
       "    <tr>\n",
       "      <th>2202</th>\n",
       "      <td>False</td>\n",
       "      <td>False</td>\n",
       "      <td>False</td>\n",
       "      <td>False</td>\n",
       "      <td>False</td>\n",
       "      <td>False</td>\n",
       "      <td>False</td>\n",
       "      <td>False</td>\n",
       "      <td>False</td>\n",
       "      <td>False</td>\n",
       "      <td>...</td>\n",
       "      <td>False</td>\n",
       "      <td>True</td>\n",
       "      <td>True</td>\n",
       "      <td>False</td>\n",
       "      <td>False</td>\n",
       "      <td>False</td>\n",
       "      <td>False</td>\n",
       "      <td>False</td>\n",
       "      <td>False</td>\n",
       "      <td>False</td>\n",
       "    </tr>\n",
       "    <tr>\n",
       "      <th>2203</th>\n",
       "      <td>False</td>\n",
       "      <td>False</td>\n",
       "      <td>False</td>\n",
       "      <td>False</td>\n",
       "      <td>False</td>\n",
       "      <td>False</td>\n",
       "      <td>False</td>\n",
       "      <td>False</td>\n",
       "      <td>False</td>\n",
       "      <td>False</td>\n",
       "      <td>...</td>\n",
       "      <td>True</td>\n",
       "      <td>False</td>\n",
       "      <td>True</td>\n",
       "      <td>False</td>\n",
       "      <td>False</td>\n",
       "      <td>False</td>\n",
       "      <td>False</td>\n",
       "      <td>False</td>\n",
       "      <td>False</td>\n",
       "      <td>False</td>\n",
       "    </tr>\n",
       "    <tr>\n",
       "      <th>2204</th>\n",
       "      <td>False</td>\n",
       "      <td>False</td>\n",
       "      <td>False</td>\n",
       "      <td>False</td>\n",
       "      <td>False</td>\n",
       "      <td>False</td>\n",
       "      <td>False</td>\n",
       "      <td>False</td>\n",
       "      <td>False</td>\n",
       "      <td>False</td>\n",
       "      <td>...</td>\n",
       "      <td>True</td>\n",
       "      <td>True</td>\n",
       "      <td>False</td>\n",
       "      <td>False</td>\n",
       "      <td>False</td>\n",
       "      <td>False</td>\n",
       "      <td>False</td>\n",
       "      <td>False</td>\n",
       "      <td>False</td>\n",
       "      <td>False</td>\n",
       "    </tr>\n",
       "  </tbody>\n",
       "</table>\n",
       "<p>2205 rows × 44 columns</p>\n",
       "</div>"
      ],
      "text/plain": [
       "      Unnamed: 0  Income  Kidhome  Teenhome  Recency  MntWines  MntFruits  \\\n",
       "0          False   False    False     False    False     False      False   \n",
       "1          False   False    False     False    False     False      False   \n",
       "2          False   False    False     False    False     False      False   \n",
       "3          False   False    False     False    False     False      False   \n",
       "4          False   False    False     False    False     False      False   \n",
       "...          ...     ...      ...       ...      ...       ...        ...   \n",
       "2200       False   False    False     False    False     False      False   \n",
       "2201       False   False    False     False    False     False      False   \n",
       "2202       False   False    False     False    False     False      False   \n",
       "2203       False   False    False     False    False     False      False   \n",
       "2204       False   False    False     False    False     False      False   \n",
       "\n",
       "      MntMeatProducts  MntFishProducts  MntSweetProducts  ...  \\\n",
       "0               False            False             False  ...   \n",
       "1               False            False             False  ...   \n",
       "2               False            False             False  ...   \n",
       "3               False            False             False  ...   \n",
       "4               False            False             False  ...   \n",
       "...               ...              ...               ...  ...   \n",
       "2200            False            False             False  ...   \n",
       "2201            False            False             False  ...   \n",
       "2202            False            False             False  ...   \n",
       "2203            False            False             False  ...   \n",
       "2204            False            False             False  ...   \n",
       "\n",
       "      education_Graduation  education_Master  education_PhD  MntTotal  \\\n",
       "0                    False              True           True     False   \n",
       "1                    False              True           True     False   \n",
       "2                    False              True           True     False   \n",
       "3                    False              True           True     False   \n",
       "4                     True              True          False     False   \n",
       "...                    ...               ...            ...       ...   \n",
       "2200                 False              True           True     False   \n",
       "2201                  True              True          False     False   \n",
       "2202                 False              True           True     False   \n",
       "2203                  True             False           True     False   \n",
       "2204                  True              True          False     False   \n",
       "\n",
       "      MntRegularProds  AcceptedCmpOverall  marital_status  education_level  \\\n",
       "0               False               False           False            False   \n",
       "1               False               False           False            False   \n",
       "2               False               False           False            False   \n",
       "3               False               False           False            False   \n",
       "4               False               False           False            False   \n",
       "...               ...                 ...             ...              ...   \n",
       "2200            False               False           False            False   \n",
       "2201            False               False           False            False   \n",
       "2202            False               False           False            False   \n",
       "2203            False               False           False            False   \n",
       "2204            False               False           False            False   \n",
       "\n",
       "       kids  expenses  \n",
       "0     False     False  \n",
       "1     False     False  \n",
       "2     False     False  \n",
       "3     False     False  \n",
       "4     False     False  \n",
       "...     ...       ...  \n",
       "2200  False     False  \n",
       "2201  False     False  \n",
       "2202  False     False  \n",
       "2203  False     False  \n",
       "2204  False     False  \n",
       "\n",
       "[2205 rows x 44 columns]"
      ]
     },
     "execution_count": 224,
     "metadata": {},
     "output_type": "execute_result"
    }
   ],
   "source": [
    "df.isnull()"
   ]
  },
  {
   "cell_type": "markdown",
   "id": "3e6136c8",
   "metadata": {},
   "source": [
    "Aqui, podemos observar que há dados nulos; porém, eles são dados categóricos, representando respostas como 'sim' e 'não'. Portanto, podemos considerar que as respostas nulas indicam uma negativa."
   ]
  },
  {
   "cell_type": "code",
   "execution_count": 225,
   "id": "1d6ec566",
   "metadata": {},
   "outputs": [
    {
     "data": {
      "text/plain": [
       "Unnamed: 0                 0\n",
       "Income                     0\n",
       "Kidhome                    0\n",
       "Teenhome                   0\n",
       "Recency                    0\n",
       "MntWines                   0\n",
       "MntFruits                  0\n",
       "MntMeatProducts            0\n",
       "MntFishProducts            0\n",
       "MntSweetProducts           0\n",
       "MntGoldProds               0\n",
       "NumDealsPurchases          0\n",
       "NumWebPurchases            0\n",
       "NumCatalogPurchases        0\n",
       "NumStorePurchases          0\n",
       "NumWebVisitsMonth          0\n",
       "AcceptedCmp3               0\n",
       "AcceptedCmp4               0\n",
       "AcceptedCmp5               0\n",
       "AcceptedCmp1               0\n",
       "AcceptedCmp2               0\n",
       "Complain                   0\n",
       "Z_CostContact              0\n",
       "Z_Revenue                  0\n",
       "Response                   0\n",
       "Age                        0\n",
       "Customer_Days              0\n",
       "marital_Divorced        1975\n",
       "marital_Married         1351\n",
       "marital_Single          1728\n",
       "marital_Together        1637\n",
       "marital_Widow           2129\n",
       "education_2n Cycle      2007\n",
       "education_Basic         2151\n",
       "education_Graduation    1092\n",
       "education_Master        1841\n",
       "education_PhD           1729\n",
       "MntTotal                   0\n",
       "MntRegularProds            0\n",
       "AcceptedCmpOverall         0\n",
       "marital_status             0\n",
       "education_level            0\n",
       "kids                       0\n",
       "expenses                   0\n",
       "dtype: int64"
      ]
     },
     "execution_count": 225,
     "metadata": {},
     "output_type": "execute_result"
    }
   ],
   "source": [
    "df.isnull().sum()"
   ]
  },
  {
   "cell_type": "code",
   "execution_count": 226,
   "id": "8d4ebba0",
   "metadata": {},
   "outputs": [
    {
     "data": {
      "text/plain": [
       "Unnamed: 0                 0\n",
       "Income                     0\n",
       "Kidhome                    0\n",
       "Teenhome                   0\n",
       "Recency                    0\n",
       "MntWines                   0\n",
       "MntFruits                  0\n",
       "MntMeatProducts            0\n",
       "MntFishProducts            0\n",
       "MntSweetProducts           0\n",
       "MntGoldProds               0\n",
       "NumDealsPurchases          0\n",
       "NumWebPurchases            0\n",
       "NumCatalogPurchases        0\n",
       "NumStorePurchases          0\n",
       "NumWebVisitsMonth          0\n",
       "AcceptedCmp3               0\n",
       "AcceptedCmp4               0\n",
       "AcceptedCmp5               0\n",
       "AcceptedCmp1               0\n",
       "AcceptedCmp2               0\n",
       "Complain                   0\n",
       "Z_CostContact              0\n",
       "Z_Revenue                  0\n",
       "Response                   0\n",
       "Age                        0\n",
       "Customer_Days              0\n",
       "marital_Divorced        1975\n",
       "marital_Married         1351\n",
       "marital_Single          1728\n",
       "marital_Together        1637\n",
       "marital_Widow           2129\n",
       "education_2n Cycle      2007\n",
       "education_Basic         2151\n",
       "education_Graduation    1092\n",
       "education_Master        1841\n",
       "education_PhD           1729\n",
       "MntTotal                   0\n",
       "MntRegularProds            0\n",
       "AcceptedCmpOverall         0\n",
       "marital_status             0\n",
       "education_level            0\n",
       "kids                       0\n",
       "expenses                   0\n",
       "dtype: int64"
      ]
     },
     "execution_count": 226,
     "metadata": {},
     "output_type": "execute_result"
    }
   ],
   "source": [
    "df.isnull().sum()"
   ]
  },
  {
   "cell_type": "code",
   "execution_count": 227,
   "id": "f06ba721",
   "metadata": {},
   "outputs": [],
   "source": [
    "df_ops = df.fillna(0)"
   ]
  },
  {
   "cell_type": "code",
   "execution_count": 228,
   "id": "32809941",
   "metadata": {},
   "outputs": [
    {
     "data": {
      "text/html": [
       "<div>\n",
       "<style scoped>\n",
       "    .dataframe tbody tr th:only-of-type {\n",
       "        vertical-align: middle;\n",
       "    }\n",
       "\n",
       "    .dataframe tbody tr th {\n",
       "        vertical-align: top;\n",
       "    }\n",
       "\n",
       "    .dataframe thead th {\n",
       "        text-align: right;\n",
       "    }\n",
       "</style>\n",
       "<table border=\"1\" class=\"dataframe\">\n",
       "  <thead>\n",
       "    <tr style=\"text-align: right;\">\n",
       "      <th></th>\n",
       "      <th>Unnamed: 0</th>\n",
       "      <th>Income</th>\n",
       "      <th>Kidhome</th>\n",
       "      <th>Teenhome</th>\n",
       "      <th>Recency</th>\n",
       "      <th>MntWines</th>\n",
       "      <th>MntFruits</th>\n",
       "      <th>MntMeatProducts</th>\n",
       "      <th>MntFishProducts</th>\n",
       "      <th>MntSweetProducts</th>\n",
       "      <th>...</th>\n",
       "      <th>education_Graduation</th>\n",
       "      <th>education_Master</th>\n",
       "      <th>education_PhD</th>\n",
       "      <th>MntTotal</th>\n",
       "      <th>MntRegularProds</th>\n",
       "      <th>AcceptedCmpOverall</th>\n",
       "      <th>marital_status</th>\n",
       "      <th>education_level</th>\n",
       "      <th>kids</th>\n",
       "      <th>expenses</th>\n",
       "    </tr>\n",
       "  </thead>\n",
       "  <tbody>\n",
       "    <tr>\n",
       "      <th>0</th>\n",
       "      <td>False</td>\n",
       "      <td>False</td>\n",
       "      <td>False</td>\n",
       "      <td>False</td>\n",
       "      <td>False</td>\n",
       "      <td>False</td>\n",
       "      <td>False</td>\n",
       "      <td>False</td>\n",
       "      <td>False</td>\n",
       "      <td>False</td>\n",
       "      <td>...</td>\n",
       "      <td>False</td>\n",
       "      <td>False</td>\n",
       "      <td>False</td>\n",
       "      <td>False</td>\n",
       "      <td>False</td>\n",
       "      <td>False</td>\n",
       "      <td>False</td>\n",
       "      <td>False</td>\n",
       "      <td>False</td>\n",
       "      <td>False</td>\n",
       "    </tr>\n",
       "    <tr>\n",
       "      <th>1</th>\n",
       "      <td>False</td>\n",
       "      <td>False</td>\n",
       "      <td>False</td>\n",
       "      <td>False</td>\n",
       "      <td>False</td>\n",
       "      <td>False</td>\n",
       "      <td>False</td>\n",
       "      <td>False</td>\n",
       "      <td>False</td>\n",
       "      <td>False</td>\n",
       "      <td>...</td>\n",
       "      <td>False</td>\n",
       "      <td>False</td>\n",
       "      <td>False</td>\n",
       "      <td>False</td>\n",
       "      <td>False</td>\n",
       "      <td>False</td>\n",
       "      <td>False</td>\n",
       "      <td>False</td>\n",
       "      <td>False</td>\n",
       "      <td>False</td>\n",
       "    </tr>\n",
       "    <tr>\n",
       "      <th>2</th>\n",
       "      <td>False</td>\n",
       "      <td>False</td>\n",
       "      <td>False</td>\n",
       "      <td>False</td>\n",
       "      <td>False</td>\n",
       "      <td>False</td>\n",
       "      <td>False</td>\n",
       "      <td>False</td>\n",
       "      <td>False</td>\n",
       "      <td>False</td>\n",
       "      <td>...</td>\n",
       "      <td>False</td>\n",
       "      <td>False</td>\n",
       "      <td>False</td>\n",
       "      <td>False</td>\n",
       "      <td>False</td>\n",
       "      <td>False</td>\n",
       "      <td>False</td>\n",
       "      <td>False</td>\n",
       "      <td>False</td>\n",
       "      <td>False</td>\n",
       "    </tr>\n",
       "    <tr>\n",
       "      <th>3</th>\n",
       "      <td>False</td>\n",
       "      <td>False</td>\n",
       "      <td>False</td>\n",
       "      <td>False</td>\n",
       "      <td>False</td>\n",
       "      <td>False</td>\n",
       "      <td>False</td>\n",
       "      <td>False</td>\n",
       "      <td>False</td>\n",
       "      <td>False</td>\n",
       "      <td>...</td>\n",
       "      <td>False</td>\n",
       "      <td>False</td>\n",
       "      <td>False</td>\n",
       "      <td>False</td>\n",
       "      <td>False</td>\n",
       "      <td>False</td>\n",
       "      <td>False</td>\n",
       "      <td>False</td>\n",
       "      <td>False</td>\n",
       "      <td>False</td>\n",
       "    </tr>\n",
       "    <tr>\n",
       "      <th>4</th>\n",
       "      <td>False</td>\n",
       "      <td>False</td>\n",
       "      <td>False</td>\n",
       "      <td>False</td>\n",
       "      <td>False</td>\n",
       "      <td>False</td>\n",
       "      <td>False</td>\n",
       "      <td>False</td>\n",
       "      <td>False</td>\n",
       "      <td>False</td>\n",
       "      <td>...</td>\n",
       "      <td>False</td>\n",
       "      <td>False</td>\n",
       "      <td>False</td>\n",
       "      <td>False</td>\n",
       "      <td>False</td>\n",
       "      <td>False</td>\n",
       "      <td>False</td>\n",
       "      <td>False</td>\n",
       "      <td>False</td>\n",
       "      <td>False</td>\n",
       "    </tr>\n",
       "    <tr>\n",
       "      <th>...</th>\n",
       "      <td>...</td>\n",
       "      <td>...</td>\n",
       "      <td>...</td>\n",
       "      <td>...</td>\n",
       "      <td>...</td>\n",
       "      <td>...</td>\n",
       "      <td>...</td>\n",
       "      <td>...</td>\n",
       "      <td>...</td>\n",
       "      <td>...</td>\n",
       "      <td>...</td>\n",
       "      <td>...</td>\n",
       "      <td>...</td>\n",
       "      <td>...</td>\n",
       "      <td>...</td>\n",
       "      <td>...</td>\n",
       "      <td>...</td>\n",
       "      <td>...</td>\n",
       "      <td>...</td>\n",
       "      <td>...</td>\n",
       "      <td>...</td>\n",
       "    </tr>\n",
       "    <tr>\n",
       "      <th>2200</th>\n",
       "      <td>False</td>\n",
       "      <td>False</td>\n",
       "      <td>False</td>\n",
       "      <td>False</td>\n",
       "      <td>False</td>\n",
       "      <td>False</td>\n",
       "      <td>False</td>\n",
       "      <td>False</td>\n",
       "      <td>False</td>\n",
       "      <td>False</td>\n",
       "      <td>...</td>\n",
       "      <td>False</td>\n",
       "      <td>False</td>\n",
       "      <td>False</td>\n",
       "      <td>False</td>\n",
       "      <td>False</td>\n",
       "      <td>False</td>\n",
       "      <td>False</td>\n",
       "      <td>False</td>\n",
       "      <td>False</td>\n",
       "      <td>False</td>\n",
       "    </tr>\n",
       "    <tr>\n",
       "      <th>2201</th>\n",
       "      <td>False</td>\n",
       "      <td>False</td>\n",
       "      <td>False</td>\n",
       "      <td>False</td>\n",
       "      <td>False</td>\n",
       "      <td>False</td>\n",
       "      <td>False</td>\n",
       "      <td>False</td>\n",
       "      <td>False</td>\n",
       "      <td>False</td>\n",
       "      <td>...</td>\n",
       "      <td>False</td>\n",
       "      <td>False</td>\n",
       "      <td>False</td>\n",
       "      <td>False</td>\n",
       "      <td>False</td>\n",
       "      <td>False</td>\n",
       "      <td>False</td>\n",
       "      <td>False</td>\n",
       "      <td>False</td>\n",
       "      <td>False</td>\n",
       "    </tr>\n",
       "    <tr>\n",
       "      <th>2202</th>\n",
       "      <td>False</td>\n",
       "      <td>False</td>\n",
       "      <td>False</td>\n",
       "      <td>False</td>\n",
       "      <td>False</td>\n",
       "      <td>False</td>\n",
       "      <td>False</td>\n",
       "      <td>False</td>\n",
       "      <td>False</td>\n",
       "      <td>False</td>\n",
       "      <td>...</td>\n",
       "      <td>False</td>\n",
       "      <td>False</td>\n",
       "      <td>False</td>\n",
       "      <td>False</td>\n",
       "      <td>False</td>\n",
       "      <td>False</td>\n",
       "      <td>False</td>\n",
       "      <td>False</td>\n",
       "      <td>False</td>\n",
       "      <td>False</td>\n",
       "    </tr>\n",
       "    <tr>\n",
       "      <th>2203</th>\n",
       "      <td>False</td>\n",
       "      <td>False</td>\n",
       "      <td>False</td>\n",
       "      <td>False</td>\n",
       "      <td>False</td>\n",
       "      <td>False</td>\n",
       "      <td>False</td>\n",
       "      <td>False</td>\n",
       "      <td>False</td>\n",
       "      <td>False</td>\n",
       "      <td>...</td>\n",
       "      <td>False</td>\n",
       "      <td>False</td>\n",
       "      <td>False</td>\n",
       "      <td>False</td>\n",
       "      <td>False</td>\n",
       "      <td>False</td>\n",
       "      <td>False</td>\n",
       "      <td>False</td>\n",
       "      <td>False</td>\n",
       "      <td>False</td>\n",
       "    </tr>\n",
       "    <tr>\n",
       "      <th>2204</th>\n",
       "      <td>False</td>\n",
       "      <td>False</td>\n",
       "      <td>False</td>\n",
       "      <td>False</td>\n",
       "      <td>False</td>\n",
       "      <td>False</td>\n",
       "      <td>False</td>\n",
       "      <td>False</td>\n",
       "      <td>False</td>\n",
       "      <td>False</td>\n",
       "      <td>...</td>\n",
       "      <td>False</td>\n",
       "      <td>False</td>\n",
       "      <td>False</td>\n",
       "      <td>False</td>\n",
       "      <td>False</td>\n",
       "      <td>False</td>\n",
       "      <td>False</td>\n",
       "      <td>False</td>\n",
       "      <td>False</td>\n",
       "      <td>False</td>\n",
       "    </tr>\n",
       "  </tbody>\n",
       "</table>\n",
       "<p>2205 rows × 44 columns</p>\n",
       "</div>"
      ],
      "text/plain": [
       "      Unnamed: 0  Income  Kidhome  Teenhome  Recency  MntWines  MntFruits  \\\n",
       "0          False   False    False     False    False     False      False   \n",
       "1          False   False    False     False    False     False      False   \n",
       "2          False   False    False     False    False     False      False   \n",
       "3          False   False    False     False    False     False      False   \n",
       "4          False   False    False     False    False     False      False   \n",
       "...          ...     ...      ...       ...      ...       ...        ...   \n",
       "2200       False   False    False     False    False     False      False   \n",
       "2201       False   False    False     False    False     False      False   \n",
       "2202       False   False    False     False    False     False      False   \n",
       "2203       False   False    False     False    False     False      False   \n",
       "2204       False   False    False     False    False     False      False   \n",
       "\n",
       "      MntMeatProducts  MntFishProducts  MntSweetProducts  ...  \\\n",
       "0               False            False             False  ...   \n",
       "1               False            False             False  ...   \n",
       "2               False            False             False  ...   \n",
       "3               False            False             False  ...   \n",
       "4               False            False             False  ...   \n",
       "...               ...              ...               ...  ...   \n",
       "2200            False            False             False  ...   \n",
       "2201            False            False             False  ...   \n",
       "2202            False            False             False  ...   \n",
       "2203            False            False             False  ...   \n",
       "2204            False            False             False  ...   \n",
       "\n",
       "      education_Graduation  education_Master  education_PhD  MntTotal  \\\n",
       "0                    False             False          False     False   \n",
       "1                    False             False          False     False   \n",
       "2                    False             False          False     False   \n",
       "3                    False             False          False     False   \n",
       "4                    False             False          False     False   \n",
       "...                    ...               ...            ...       ...   \n",
       "2200                 False             False          False     False   \n",
       "2201                 False             False          False     False   \n",
       "2202                 False             False          False     False   \n",
       "2203                 False             False          False     False   \n",
       "2204                 False             False          False     False   \n",
       "\n",
       "      MntRegularProds  AcceptedCmpOverall  marital_status  education_level  \\\n",
       "0               False               False           False            False   \n",
       "1               False               False           False            False   \n",
       "2               False               False           False            False   \n",
       "3               False               False           False            False   \n",
       "4               False               False           False            False   \n",
       "...               ...                 ...             ...              ...   \n",
       "2200            False               False           False            False   \n",
       "2201            False               False           False            False   \n",
       "2202            False               False           False            False   \n",
       "2203            False               False           False            False   \n",
       "2204            False               False           False            False   \n",
       "\n",
       "       kids  expenses  \n",
       "0     False     False  \n",
       "1     False     False  \n",
       "2     False     False  \n",
       "3     False     False  \n",
       "4     False     False  \n",
       "...     ...       ...  \n",
       "2200  False     False  \n",
       "2201  False     False  \n",
       "2202  False     False  \n",
       "2203  False     False  \n",
       "2204  False     False  \n",
       "\n",
       "[2205 rows x 44 columns]"
      ]
     },
     "execution_count": 228,
     "metadata": {},
     "output_type": "execute_result"
    }
   ],
   "source": [
    "df_ops.isnull()"
   ]
  },
  {
   "cell_type": "markdown",
   "id": "bede3882",
   "metadata": {},
   "source": [
    "Dados nulos tratados, com o objetivo de trazer maior embasamento nas respostas, eles foram tratados como negativas tendo em vista que a base busca trazer informações com dados categóricos nessas colunas"
   ]
  },
  {
   "cell_type": "markdown",
   "id": "b4076d54",
   "metadata": {},
   "source": [
    "#### Quais são as estatísticas descritivas das colunas numéricas?\n",
    "\n",
    "Aqui, vamos calcular a média, a mediana, os percentis 25 e 75, o mínimo e o máximo."
   ]
  },
  {
   "cell_type": "code",
   "execution_count": 229,
   "metadata": {},
   "outputs": [
    {
     "name": "stdout",
     "output_type": "stream",
     "text": [
      " marital_Single: 1908.0\n",
      " marital_Widow: 152.0\n",
      " marital_Divorced: 230.0\n",
      " marital_Married: 4270.0\n",
      " marital_Together: 1704.0\n"
     ]
    }
   ],
   "source": [
    "single = df['marital_Single'].sum()\n",
    "widow = df['marital_Widow'].sum()\n",
    "divorced = df['marital_Divorced'].sum()\n",
    "married = df['marital_Married'].sum()\n",
    "toghether = df['marital_Together'].sum()\n",
    "\n",
    "print(f' marital_Single: {single}\\n marital_Widow: {widow}\\n marital_Divorced: {divorced}\\n marital_Married: {married}\\n marital_Together: {toghether}')"
   ]
  },
  {
   "cell_type": "code",
   "execution_count": 230,
   "id": "d7484bb8",
   "metadata": {},
   "outputs": [],
   "source": [
    "num_values = df_ops.select_dtypes(include=['int64', 'float64'])"
   ]
  },
  {
   "cell_type": "markdown",
   "id": "16060b4f",
   "metadata": {},
   "source": [
    "#### Média"
   ]
  },
  {
   "cell_type": "code",
   "execution_count": 231,
   "id": "9483ca8d",
   "metadata": {},
   "outputs": [
    {
     "data": {
      "text/plain": [
       "Unnamed: 0               1102.000000\n",
       "Income                  51622.094785\n",
       "Kidhome                     0.442177\n",
       "Teenhome                    0.506576\n",
       "Recency                    49.009070\n",
       "MntWines                  306.164626\n",
       "MntFruits                  26.403175\n",
       "MntMeatProducts           165.312018\n",
       "MntFishProducts            37.756463\n",
       "MntSweetProducts           27.128345\n",
       "MntGoldProds               44.057143\n",
       "NumDealsPurchases           2.318367\n",
       "NumWebPurchases             4.100680\n",
       "NumCatalogPurchases         2.645351\n",
       "NumStorePurchases           5.823583\n",
       "NumWebVisitsMonth           5.336961\n",
       "AcceptedCmp3                0.073923\n",
       "AcceptedCmp4                0.074376\n",
       "AcceptedCmp5                0.073016\n",
       "AcceptedCmp1                0.064399\n",
       "AcceptedCmp2                0.013605\n",
       "Complain                    0.009070\n",
       "Z_CostContact               3.000000\n",
       "Z_Revenue                  11.000000\n",
       "Response                    0.151020\n",
       "Age                        51.095692\n",
       "Customer_Days            2512.718367\n",
       "marital_Divorced            0.104308\n",
       "marital_Married             1.936508\n",
       "marital_Single              0.865306\n",
       "marital_Together            0.772789\n",
       "marital_Widow               0.068934\n",
       "education_2n Cycle          0.089796\n",
       "education_Basic             0.048980\n",
       "education_Graduation        1.514286\n",
       "education_Master            0.660317\n",
       "education_PhD               1.079365\n",
       "MntTotal                  562.764626\n",
       "MntRegularProds           518.707483\n",
       "AcceptedCmpOverall          0.299320\n",
       "kids                        0.948753\n",
       "expenses                  562.764626\n",
       "dtype: float64"
      ]
     },
     "execution_count": 231,
     "metadata": {},
     "output_type": "execute_result"
    }
   ],
   "source": [
    "num_values.mean()"
   ]
  },
  {
   "cell_type": "markdown",
   "id": "a03cf9f8",
   "metadata": {},
   "source": [
    "#### Mediana"
   ]
  },
  {
   "cell_type": "code",
   "execution_count": 232,
   "id": "ef94f377",
   "metadata": {},
   "outputs": [
    {
     "data": {
      "text/plain": [
       "Unnamed: 0               1102.0\n",
       "Income                  51287.0\n",
       "Kidhome                     0.0\n",
       "Teenhome                    0.0\n",
       "Recency                    49.0\n",
       "MntWines                  178.0\n",
       "MntFruits                   8.0\n",
       "MntMeatProducts            68.0\n",
       "MntFishProducts            12.0\n",
       "MntSweetProducts            8.0\n",
       "MntGoldProds               25.0\n",
       "NumDealsPurchases           2.0\n",
       "NumWebPurchases             4.0\n",
       "NumCatalogPurchases         2.0\n",
       "NumStorePurchases           5.0\n",
       "NumWebVisitsMonth           6.0\n",
       "AcceptedCmp3                0.0\n",
       "AcceptedCmp4                0.0\n",
       "AcceptedCmp5                0.0\n",
       "AcceptedCmp1                0.0\n",
       "AcceptedCmp2                0.0\n",
       "Complain                    0.0\n",
       "Z_CostContact               3.0\n",
       "Z_Revenue                  11.0\n",
       "Response                    0.0\n",
       "Age                        50.0\n",
       "Customer_Days            2515.0\n",
       "marital_Divorced            0.0\n",
       "marital_Married             0.0\n",
       "marital_Single              0.0\n",
       "marital_Together            0.0\n",
       "marital_Widow               0.0\n",
       "education_2n Cycle          0.0\n",
       "education_Basic             0.0\n",
       "education_Graduation        3.0\n",
       "education_Master            0.0\n",
       "education_PhD               0.0\n",
       "MntTotal                  343.0\n",
       "MntRegularProds           288.0\n",
       "AcceptedCmpOverall          0.0\n",
       "kids                        1.0\n",
       "expenses                  343.0\n",
       "dtype: float64"
      ]
     },
     "execution_count": 232,
     "metadata": {},
     "output_type": "execute_result"
    }
   ],
   "source": [
    "num_values.median()"
   ]
  },
  {
   "cell_type": "markdown",
   "id": "1811c68d",
   "metadata": {},
   "source": [
    "#### 25 Percentil "
   ]
  },
  {
   "cell_type": "code",
   "execution_count": 233,
   "id": "e8af7a3c",
   "metadata": {},
   "outputs": [
    {
     "name": "stdout",
     "output_type": "stream",
     "text": [
      "Unnamed: 0                551.0\n",
      "Income                  35196.0\n",
      "Kidhome                     0.0\n",
      "Teenhome                    0.0\n",
      "Recency                    24.0\n",
      "MntWines                   24.0\n",
      "MntFruits                   2.0\n",
      "MntMeatProducts            16.0\n",
      "MntFishProducts             3.0\n",
      "MntSweetProducts            1.0\n",
      "MntGoldProds                9.0\n",
      "NumDealsPurchases           1.0\n",
      "NumWebPurchases             2.0\n",
      "NumCatalogPurchases         0.0\n",
      "NumStorePurchases           3.0\n",
      "NumWebVisitsMonth           3.0\n",
      "AcceptedCmp3                0.0\n",
      "AcceptedCmp4                0.0\n",
      "AcceptedCmp5                0.0\n",
      "AcceptedCmp1                0.0\n",
      "AcceptedCmp2                0.0\n",
      "Complain                    0.0\n",
      "Z_CostContact               3.0\n",
      "Z_Revenue                  11.0\n",
      "Response                    0.0\n",
      "Age                        43.0\n",
      "Customer_Days            2339.0\n",
      "marital_Divorced            0.0\n",
      "marital_Married             0.0\n",
      "marital_Single              0.0\n",
      "marital_Together            0.0\n",
      "marital_Widow               0.0\n",
      "education_2n Cycle          0.0\n",
      "education_Basic             0.0\n",
      "education_Graduation        0.0\n",
      "education_Master            0.0\n",
      "education_PhD               0.0\n",
      "MntTotal                   56.0\n",
      "MntRegularProds            42.0\n",
      "AcceptedCmpOverall          0.0\n",
      "kids                        0.0\n",
      "expenses                   56.0\n",
      "dtype: float64\n"
     ]
    }
   ],
   "source": [
    "tf_percent = num_values.apply(lambda x: np.percentile(x, 25))\n",
    "print(tf_percent)"
   ]
  },
  {
   "cell_type": "markdown",
   "id": "6c0863bd",
   "metadata": {},
   "source": [
    "#### 75 Percentil"
   ]
  },
  {
   "cell_type": "code",
   "execution_count": 234,
   "id": "c690747d",
   "metadata": {},
   "outputs": [
    {
     "name": "stdout",
     "output_type": "stream",
     "text": [
      "Unnamed: 0               1653.0\n",
      "Income                  68281.0\n",
      "Kidhome                     1.0\n",
      "Teenhome                    1.0\n",
      "Recency                    74.0\n",
      "MntWines                  507.0\n",
      "MntFruits                  33.0\n",
      "MntMeatProducts           232.0\n",
      "MntFishProducts            50.0\n",
      "MntSweetProducts           34.0\n",
      "MntGoldProds               56.0\n",
      "NumDealsPurchases           3.0\n",
      "NumWebPurchases             6.0\n",
      "NumCatalogPurchases         4.0\n",
      "NumStorePurchases           8.0\n",
      "NumWebVisitsMonth           7.0\n",
      "AcceptedCmp3                0.0\n",
      "AcceptedCmp4                0.0\n",
      "AcceptedCmp5                0.0\n",
      "AcceptedCmp1                0.0\n",
      "AcceptedCmp2                0.0\n",
      "Complain                    0.0\n",
      "Z_CostContact               3.0\n",
      "Z_Revenue                  11.0\n",
      "Response                    0.0\n",
      "Age                        61.0\n",
      "Customer_Days            2688.0\n",
      "marital_Divorced            0.0\n",
      "marital_Married             5.0\n",
      "marital_Single              0.0\n",
      "marital_Together            3.0\n",
      "marital_Widow               0.0\n",
      "education_2n Cycle          0.0\n",
      "education_Basic             0.0\n",
      "education_Graduation        3.0\n",
      "education_Master            0.0\n",
      "education_PhD               0.0\n",
      "MntTotal                  964.0\n",
      "MntRegularProds           884.0\n",
      "AcceptedCmpOverall          0.0\n",
      "kids                        1.0\n",
      "expenses                  964.0\n",
      "dtype: float64\n"
     ]
    }
   ],
   "source": [
    "sf_percent = num_values.apply(lambda x: np.percentile(x, 75))\n",
    "print(sf_percent)"
   ]
  },
  {
   "cell_type": "markdown",
   "id": "980125ee",
   "metadata": {},
   "source": [
    "#### Valores mínimos"
   ]
  },
  {
   "cell_type": "code",
   "execution_count": 235,
   "id": "b46e292b",
   "metadata": {},
   "outputs": [
    {
     "name": "stdout",
     "output_type": "stream",
     "text": [
      "Unnamed: 0                 0.0\n",
      "Income                  1730.0\n",
      "Kidhome                    0.0\n",
      "Teenhome                   0.0\n",
      "Recency                    0.0\n",
      "MntWines                   0.0\n",
      "MntFruits                  0.0\n",
      "MntMeatProducts            0.0\n",
      "MntFishProducts            0.0\n",
      "MntSweetProducts           0.0\n",
      "MntGoldProds               0.0\n",
      "NumDealsPurchases          0.0\n",
      "NumWebPurchases            0.0\n",
      "NumCatalogPurchases        0.0\n",
      "NumStorePurchases          0.0\n",
      "NumWebVisitsMonth          0.0\n",
      "AcceptedCmp3               0.0\n",
      "AcceptedCmp4               0.0\n",
      "AcceptedCmp5               0.0\n",
      "AcceptedCmp1               0.0\n",
      "AcceptedCmp2               0.0\n",
      "Complain                   0.0\n",
      "Z_CostContact              3.0\n",
      "Z_Revenue                 11.0\n",
      "Response                   0.0\n",
      "Age                       24.0\n",
      "Customer_Days           2159.0\n",
      "marital_Divorced           0.0\n",
      "marital_Married            0.0\n",
      "marital_Single             0.0\n",
      "marital_Together           0.0\n",
      "marital_Widow              0.0\n",
      "education_2n Cycle         0.0\n",
      "education_Basic            0.0\n",
      "education_Graduation       0.0\n",
      "education_Master           0.0\n",
      "education_PhD              0.0\n",
      "MntTotal                   4.0\n",
      "MntRegularProds         -283.0\n",
      "AcceptedCmpOverall         0.0\n",
      "kids                       0.0\n",
      "expenses                   4.0\n",
      "dtype: float64\n"
     ]
    }
   ],
   "source": [
    "min_values = num_values.apply(lambda x: np.min(x))\n",
    "print(min_values)"
   ]
  },
  {
   "cell_type": "markdown",
   "id": "1fc75290",
   "metadata": {},
   "source": [
    "#### Valores máximos"
   ]
  },
  {
   "cell_type": "code",
   "execution_count": 236,
   "id": "7656291e",
   "metadata": {},
   "outputs": [
    {
     "name": "stdout",
     "output_type": "stream",
     "text": [
      "Unnamed: 0                2204.0\n",
      "Income                  113734.0\n",
      "Kidhome                      2.0\n",
      "Teenhome                     2.0\n",
      "Recency                     99.0\n",
      "MntWines                  1493.0\n",
      "MntFruits                  199.0\n",
      "MntMeatProducts           1725.0\n",
      "MntFishProducts            259.0\n",
      "MntSweetProducts           262.0\n",
      "MntGoldProds               321.0\n",
      "NumDealsPurchases           15.0\n",
      "NumWebPurchases             27.0\n",
      "NumCatalogPurchases         28.0\n",
      "NumStorePurchases           13.0\n",
      "NumWebVisitsMonth           20.0\n",
      "AcceptedCmp3                 1.0\n",
      "AcceptedCmp4                 1.0\n",
      "AcceptedCmp5                 1.0\n",
      "AcceptedCmp1                 1.0\n",
      "AcceptedCmp2                 1.0\n",
      "Complain                     1.0\n",
      "Z_CostContact                3.0\n",
      "Z_Revenue                   11.0\n",
      "Response                     1.0\n",
      "Age                         80.0\n",
      "Customer_Days             2858.0\n",
      "marital_Divorced             1.0\n",
      "marital_Married              5.0\n",
      "marital_Single               4.0\n",
      "marital_Together             3.0\n",
      "marital_Widow                2.0\n",
      "education_2n Cycle           1.0\n",
      "education_Basic              2.0\n",
      "education_Graduation         3.0\n",
      "education_Master             4.0\n",
      "education_PhD                5.0\n",
      "MntTotal                  2491.0\n",
      "MntRegularProds           2458.0\n",
      "AcceptedCmpOverall           4.0\n",
      "kids                         3.0\n",
      "expenses                  2491.0\n",
      "dtype: float64\n"
     ]
    }
   ],
   "source": [
    "max_values = num_values.apply(lambda x: np.max(x))\n",
    "print(max_values)"
   ]
  },
  {
   "cell_type": "markdown",
   "id": "83039197",
   "metadata": {},
   "source": [
    "#### 2. Entendendo o Perfil dos Clientes:\n",
    "\n",
    "- Qual é o maior/menor salário encontrado na nossa base?\n",
    "- Como é a distribuição salarial entre os clientes? Existe uma ampla variação entre clientes que ganham muito bem e aqueles que ganham menos?\n",
    "- Qual é o nível de educação dos nossos clientes?\n",
    "- Quantos clientes temos em cada estado civil?\n",
    "- Qual a idade média dos clientes?"
   ]
  },
  {
   "cell_type": "markdown",
   "id": "4220079b",
   "metadata": {},
   "source": [
    "#### Qual é o maior/menor salário encontrado na nossa base?"
   ]
  },
  {
   "cell_type": "code",
   "execution_count": 237,
   "id": "82786aa6",
   "metadata": {},
   "outputs": [
    {
     "name": "stdout",
     "output_type": "stream",
     "text": [
      " maximum income: 113734.0 \n",
      " minimum income: 1730.0\n"
     ]
    }
   ],
   "source": [
    "max_Income = df['Income'].max()\n",
    "min_Income = df['Income'].min()\n",
    "\n",
    "print(f' maximum income: {max_Income} \\n minimum income: {min_Income}')"
   ]
  },
  {
   "cell_type": "code",
   "execution_count": 238,
   "id": "7e482dcf",
   "metadata": {},
   "outputs": [
    {
     "data": {
      "text/plain": [
       "Text(0.5, 1.0, 'Distribuição de salários')"
      ]
     },
     "execution_count": 238,
     "metadata": {},
     "output_type": "execute_result"
    },
    {
     "data": {
      "image/png": "[encoded data removed]",
      "text/plain": [
       "<Figure size 800x400 with 1 Axes>"
      ]
     },
     "metadata": {},
     "output_type": "display_data"
    }
   ],
   "source": [
    "df.dropna(subset=['Income'], inplace=True)\n",
    "plt.figure(figsize=(8, 4))\n",
    "sns.histplot(df['Income'], bins=20, kde=True, color='Red')\n",
    "\n",
    "plt.ylabel('Indivíduos')\n",
    "plt.title('Distribuição de salários')"
   ]
  },
  {
   "cell_type": "markdown",
   "id": "b48249b7",
   "metadata": {},
   "source": [
    "Em nossa base, podemos observar os seguintes pontos:\n",
    "\n",
    "+ O maior salário presente em nossa base é de R$ 113.734,00.\n",
    "+ O menor salário presente em nossa base é de R$ 1.730,00.\n",
    "+ Não houve uma tendência clara entre os salários dos indivíduos, o que resultou em uma distribuição normal em nosso gráfico. Portanto, podemos afirmar que não há uma grande variação entre os clientes que ganham muito bem e os que ganham pouco, com apenas alguns indivíduos considerados outliers."
   ]
  },
  {
   "cell_type": "code",
   "execution_count": 239,
   "id": "b444daaa",
   "metadata": {},
   "outputs": [
    {
     "data": {
      "text/plain": [
       "Text(0.5, 1.0, 'Distribuição de escolaridade')"
      ]
     },
     "execution_count": 239,
     "metadata": {},
     "output_type": "execute_result"
    },
    {
     "data": {
      "image/png": "[encoded data removed]",
      "text/plain": [
       "<Figure size 800x400 with 1 Axes>"
      ]
     },
     "metadata": {},
     "output_type": "display_data"
    }
   ],
   "source": [
    "df.dropna(subset=['education_level'], inplace=True)\n",
    "plt.figure(figsize=(8,4))\n",
    "sns.histplot(df['education_level'], bins= 20, kde=False, color = 'Red')\n",
    "\n",
    "plt.ylabel('Indivíduos')\n",
    "plt.title('Distribuição de escolaridade')"
   ]
  },
  {
   "cell_type": "markdown",
   "id": "4ce82d53",
   "metadata": {},
   "source": [
    "Percebemos que, em nossa visualização, há um grande número de pessoas com o nível de escolaridade \"Graduação\", referindo-se ao ensino superior. Isso pode ser explicado pela significativa diferença na competitividade por vagas de emprego e pelos salários mais atrativos para aqueles que possuem ao menos uma graduação, como bacharelado ou tecnólogo."
   ]
  },
  {
   "cell_type": "code",
   "execution_count": 240,
   "id": "55636371",
   "metadata": {},
   "outputs": [
    {
     "name": "stdout",
     "output_type": "stream",
     "text": [
      " marital_Single: 1908.0\n",
      " marital_Widow: 152.0\n",
      " marital_Divorced: 230.0\n",
      " marital_Married: 4270.0\n",
      " marital_Together: 1704.0\n"
     ]
    }
   ],
   "source": [
    "single = df['marital_Single'].sum()\n",
    "widow = df['marital_Widow'].sum()\n",
    "divorced = df['marital_Divorced'].sum()\n",
    "married = df['marital_Married'].sum()\n",
    "together = df['marital_Together'].sum()\n",
    "\n",
    "print(f' marital_Single: {single}\\n marital_Widow: {widow}\\n marital_Divorced: {divorced}\\n marital_Married: {married}\\n marital_Together: {toghether}')"
   ]
  },
  {
   "cell_type": "markdown",
   "id": "7b94e27b",
   "metadata": {},
   "source": [
    "Em nossa base temos: \n",
    "+ 1908 pessoas solteiras.\n",
    "+ 152 viúvas.\n",
    "+ 230 divorciados.\n",
    "+ 4270 casadas.\n",
    "+ 1704 em união estável."
   ]
  },
  {
   "cell_type": "markdown",
   "id": "1292337f",
   "metadata": {},
   "source": [
    "#### Qual a idade média dos clientes?"
   ]
  },
  {
   "cell_type": "code",
   "execution_count": 249,
   "id": "617e6206",
   "metadata": {},
   "outputs": [
    {
     "name": "stdout",
     "output_type": "stream",
     "text": [
      "51\n"
     ]
    }
   ],
   "source": [
    "age_Mean = df['Age'].mean()\n",
    "\n",
    "print(int(age_Mean))"
   ]
  },
  {
   "cell_type": "markdown",
   "id": "5af7cf66",
   "metadata": {},
   "source": [
    "A idade média dos clientes é 51 anos."
   ]
  },
  {
   "cell_type": "markdown",
   "id": "bd280709",
   "metadata": {},
   "source": [
    "#### 3. Análise de Correlações:\n",
    "\n",
    "- Existe uma relação entre o estado civil e o número de filhos? As pessoas casadas tendem a ter mais filhos?\n",
    "- O número de filhos influencia nos gastos na nossa plataforma? As pessoas com filhos gastam mais ou menos?\n",
    "- A renda impacta nos gastos? Pessoas com maiores salários tendem a gastar mais?\n",
    "- Qual a melhor estratégia para aumentar o engajamento de clientes em menor ascensão sobre os gastos na plataforma?\n",
    "- Qual a relação entre a idade e os gastos em nossa plataforma? Pessoas com maior idade tendem a gastar mais ou menos? \n",
    "- A faixa etária que mais gasta é a que tem os maiores salários?"
   ]
  },
  {
   "cell_type": "code",
   "execution_count": 241,
   "id": "a6b70fdf",
   "metadata": {},
   "outputs": [
    {
     "data": {
      "text/plain": [
       "count    2205.000000\n",
       "mean        0.948753\n",
       "std         0.749231\n",
       "min         0.000000\n",
       "25%         0.000000\n",
       "50%         1.000000\n",
       "75%         1.000000\n",
       "max         3.000000\n",
       "Name: kids, dtype: float64"
      ]
     },
     "execution_count": 241,
     "metadata": {},
     "output_type": "execute_result"
    }
   ],
   "source": [
    "# kids : quantidade de filhos. \n",
    "df['kids'].describe()"
   ]
  },
  {
   "cell_type": "markdown",
   "id": "471f8e93",
   "metadata": {},
   "source": [
    "#### Existe uma relação entre o estado civil e o número de filhos? As pessoas casadas tendem a ter mais filhos?\n",
    "\n"
   ]
  },
  {
   "cell_type": "code",
   "execution_count": 242,
   "id": "c9cef0da",
   "metadata": {},
   "outputs": [
    {
     "data": {
      "text/plain": [
       "Text(0.5, 1.0, 'Corelação de filhos com estado civil')"
      ]
     },
     "execution_count": 242,
     "metadata": {},
     "output_type": "execute_result"
    },
    {
     "data": {
      "image/png": "[encoded data removed]",
      "text/plain": [
       "<Figure size 800x400 with 1 Axes>"
      ]
     },
     "metadata": {},
     "output_type": "display_data"
    }
   ],
   "source": [
    "plt.figure(figsize=(8,4))\n",
    "sns.histplot(data=df, x='kids', hue='marital_status', multiple='stack', palette='Set1', bins=10)\n",
    "plt.ylabel('Individuos em relacionamento')\n",
    "plt.title('Corelação de filhos com estado civil')\n"
   ]
  },
  {
   "cell_type": "markdown",
   "id": "076a2dab",
   "metadata": {},
   "source": [
    "- Como podemos observar no gráfico acima, as pessoas que estão em um relacionamento, seja ele um casamento ou apenas um relacionamento sério, tendem a ter mais filhos, principalmente os casados, que ocupam grande parte do gráfico."
   ]
  },
  {
   "cell_type": "markdown",
   "id": "7cebf068",
   "metadata": {},
   "source": [
    "#### O número de filhos influencia nos gastos na nossa plataforma? As pessoas com filhos gastam mais ou menos?"
   ]
  },
  {
   "cell_type": "code",
   "execution_count": 243,
   "id": "e3c78102",
   "metadata": {},
   "outputs": [
    {
     "data": {
      "image/png": "[encoded data removed]",
      "text/plain": [
       "<Figure size 640x480 with 1 Axes>"
      ]
     },
     "metadata": {},
     "output_type": "display_data"
    }
   ],
   "source": [
    "plt.bar(df['kids'], df['expenses'], color='red')\n",
    "plt.xticks(np.arange(min(df['kids']), max(df['kids']) + 1, 1))\n",
    "\n",
    "plt.title('Gastos na plataforma X Numero de filhos')\n",
    "plt.xlabel('Número de filhos')\n",
    "plt.ylabel('Gastos na plataforma')\n",
    "\n",
    "\n",
    "plt.show()"
   ]
  },
  {
   "cell_type": "markdown",
   "id": "87eb514d",
   "metadata": {},
   "source": [
    "- Sim, isso influencia de forma negativa aos olhos da empresa. Verificamos que a quantidade de filhos é inversamente proporcional à quantidade de gastos na plataforma; ou seja, quanto mais filhos o casal tem, menos ele gasta"
   ]
  },
  {
   "cell_type": "markdown",
   "id": "d959a5da",
   "metadata": {},
   "source": [
    "#### A renda impacta nos gastos? Pessoas com maiores salários tendem a gastar mais?"
   ]
  },
  {
   "cell_type": "code",
   "execution_count": 244,
   "id": "2a6d4041",
   "metadata": {},
   "outputs": [
    {
     "data": {
      "image/png": "[encoded data removed]",
      "text/plain": [
       "<Figure size 1200x600 with 1 Axes>"
      ]
     },
     "metadata": {},
     "output_type": "display_data"
    }
   ],
   "source": [
    "plt.figure(figsize=(12, 6))\n",
    "\n",
    "plt.scatter(df['Income'], df['expenses'], alpha=0.6, c='red', edgecolors='w', linewidth=0.5)\n",
    "\n",
    "\n",
    "plt.title('Relação entre Salário e Gastos na Plataforma')\n",
    "plt.xlabel('Salário (R$)')\n",
    "plt.ylabel('Gastos na Plataforma (R$)')\n",
    "plt.grid(True)\n",
    "\n",
    "plt.show()"
   ]
  },
  {
   "cell_type": "markdown",
   "id": "bc581f19",
   "metadata": {},
   "source": [
    "- Como mostrado no gráfico acima, existe uma tendência de que, com salários maiores, os clientes tendem a gastar mais na plataforma. Observa-se também uma maior dispersão dos gastos em salários mais altos."
   ]
  },
  {
   "cell_type": "markdown",
   "id": "86416989",
   "metadata": {},
   "source": [
    "#### Qual a melhor estratégia para aumentar o engajamento de clientes em menor ascensão sobre os gastos na plataforma?"
   ]
  },
  {
   "cell_type": "markdown",
   "id": "8c171c5c",
   "metadata": {},
   "source": [
    "Como visualizado no gráfico, indivíduos com menores salários tendem a gastar menos na plataforma. Isso ocorre devido ao menor poder aquisitivo desses consumidores. Podemos atraí-los novamente diminuindo a porcentagem de lucro sobre o pedido para esse perfil de cliente-alvo e oferecendo valores promocionais na plataforma, o que pode gerar um aumento no montante total de vendas."
   ]
  },
  {
   "cell_type": "markdown",
   "id": "95c0b987",
   "metadata": {},
   "source": [
    "#### Qual a relação entre a idade e os gastos em nossa plataforma? Pessoas com maior idade tendem a gastar mais ou menos? "
   ]
  },
  {
   "cell_type": "code",
   "execution_count": 255,
   "id": "9ba960ee",
   "metadata": {},
   "outputs": [
    {
     "data": {
      "image/png": "[encoded data removed]",
      "text/plain": [
       "<Figure size 1000x600 with 1 Axes>"
      ]
     },
     "metadata": {},
     "output_type": "display_data"
    }
   ],
   "source": [
    "bins = [0, 20, 30, 40, 50, 60, 70, 80]\n",
    "labels = ['0-20', '21-30', '31-40', '41-50', '51-60', '61-70', '71-80']\n",
    "df['age_group'] = pd.cut(df['Age'], bins=bins, labels=labels, right=False)\n",
    "\n",
    "avg_expenses_age = df.groupby('age_group')['expenses'].mean().reset_index()\n",
    "\n",
    "plt.figure(figsize=(10, 6))\n",
    "plt.bar(avg_expenses_age['age_group'], avg_expenses_age['expenses'], color='lightcoral')\n",
    "plt.xlabel('Faixa etária')\n",
    "plt.ylabel('Média de gastos')\n",
    "plt.title('Média de gastos por faixa etária')\n",
    "plt.xticks(rotation=45)\n",
    "\n",
    "plt.show()"
   ]
  },
  {
   "cell_type": "markdown",
   "id": "a7ad6deb",
   "metadata": {},
   "source": [
    "Podemos observar que os clientes entre 21-30 anos tem um maior consumo na plataforma e isso tende a diminuir até os 60 anos, onde volta ter uma leve crescente. "
   ]
  },
  {
   "cell_type": "markdown",
   "id": "4646a452",
   "metadata": {},
   "source": [
    "#### A faixa etária que mais gasta é a que tem os maiores salários?"
   ]
  },
  {
   "cell_type": "code",
   "execution_count": 259,
   "id": "0c26d878",
   "metadata": {},
   "outputs": [
    {
     "data": {
      "image/png": "[encoded data removed]",
      "text/plain": [
       "<Figure size 1000x600 with 1 Axes>"
      ]
     },
     "metadata": {},
     "output_type": "display_data"
    }
   ],
   "source": [
    "bins = [0, 20, 30, 40, 50, 60, 70, 80]\n",
    "labels = ['0-20', '21-30', '31-40', '41-50', '51-60', '61-70', '71-80']\n",
    "df['age_group'] = pd.cut(df['Age'], bins=bins, labels=labels, right=False)\n",
    "\n",
    "avg_salary_age = df.groupby('age_group')['Income'].mean().reset_index()\n",
    "\n",
    "plt.figure(figsize=(10, 6))\n",
    "plt.bar(avg_expenses_age['age_group'], avg_salary_age['Income'], color='skyblue')\n",
    "plt.xlabel('Faixa etária')\n",
    "plt.ylabel('Média de salárioss')\n",
    "plt.title('Média de salários por faixa etária')\n",
    "plt.xticks(rotation=45)\n",
    "\n",
    "plt.show()"
   ]
  },
  {
   "cell_type": "markdown",
   "id": "30ef24ad",
   "metadata": {},
   "source": [
    "Podemos observar que os gastos são proporcionais aos ganhos. Pessoas entre 31 e 50 anos tendem a ganhar mais e gastar menos na plataforma. Considero que esse seja um ponto a ser explorado com mais dados fornecidos."
   ]
  }
 ],
 "metadata": {
  "kernelspec": {
   "display_name": "Python 3 (ipykernel)",
   "language": "python",
   "name": "python3"
  },
  "language_info": {
   "codemirror_mode": {
    "name": "ipython",
    "version": 3
   },
   "file_extension": ".py",
   "mimetype": "text/x-python",
   "name": "python",
   "nbconvert_exporter": "python",
   "pygments_lexer": "ipython3",
   "version": "3.11.7"
  }
 },
 "nbformat": 4,
 "nbformat_minor": 5
}
